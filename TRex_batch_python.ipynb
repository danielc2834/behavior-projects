{
 "cells": [
  {
   "cell_type": "code",
   "execution_count": null,
   "id": "7c3bc823",
   "metadata": {
    "tags": []
   },
   "outputs": [],
   "source": [
    "import subprocess\n",
    "import pandas as pd\n",
    "import os, sys\n",
    "#if subfolders are used, put path to folder containing them, in inputpath2\n",
    "inputpath2 = r\"D:/Videos/395_IR8a_[1];IR25a_[2];Orco_[1],Gr63a_[1]_(anosmic)\"\n",
    "outputpath = r\"D:/TRex_data\"\n",
    "trex = r\"C:\\Users\\cdaniel\\.conda\\envs\\batchtgrabs\\bin\\trex.exe\"\n",
    "tgrabs = r\"C:\\Users\\cdaniel\\.conda\\envs\\batchtgrabs\\bin\\tgrabs.exe\"\n",
    "dirs2 = os.listdir(inputpath2)\n",
    "#path to the excel sheet with name and individual number \n",
    "df = pd.read_csv(\"D:\\TRex_data\\Behaviour_log.csv\")\n",
    "#read out collumn of filename and individualnumber\n",
    "inputcsv = df.iloc[:,7:9]\n",
    "liste = inputcsv.values.tolist()\n",
    "#if no subfolders are used and videos are inside inputpath2 folder, comment this out and change inputpath2 (line4) into inputpath and dirs2 indto dirs (line8)\n",
    "for j in dirs2: \n",
    "    inputpath = f\"{inputpath2}/{j}\"\n",
    "    print(j)\n",
    "    dirs = os.listdir(inputpath)\n",
    "    #comment out till here\n",
    "    for l in liste:\n",
    "                i=f\"{l[0]}.mp4\"\n",
    "                if i in dirs:\n",
    "                    outfile = i.replace(\".mp4\", \".pv\")\n",
    "                    #checks if video was alread processed, if .pv file exist in video folder\n",
    "                    if os.path.exists(outfile) == True:\n",
    "                        print(f\"{i} already processed\")\n",
    "                        #continues with next iteration\n",
    "                        continue\n",
    "                    else:\n",
    "                    print(i)\n",
    "                    individual=l[1]\n",
    "                    #runs tgrabs and then trex\n",
    "                    #outputpath of tgrabs has to be inputpath of trex\n",
    "                    subprocess.check_call([tgrabs, \"-i\", i, \"-s\", f\"{outputpath}/tgrabs_parameters.settings\", \"-output_dir\", inputpath])\n",
    "                    subprocess.check_call([trex, \"-i\", f\"{inputpath}/{outfile}\", \"-s\",  f\"{outputpath}/trex_parameters.settings\", \"-output_dir\", outputpath, \"-track_max_individuals\", str(individual)])\n",
    "                    print(f\"finish {i}\")"
   ]
  }
 ],
 "metadata": {
  "kernelspec": {
   "display_name": "Python 3 (ipykernel)",
   "language": "python",
   "name": "python3"
  },
  "language_info": {
   "codemirror_mode": {
    "name": "ipython",
    "version": 3
   },
   "file_extension": ".py",
   "mimetype": "text/x-python",
   "name": "python",
   "nbconvert_exporter": "python",
   "pygments_lexer": "ipython3",
   "version": "3.9.12"
  }
 },
 "nbformat": 4,
 "nbformat_minor": 5
}
